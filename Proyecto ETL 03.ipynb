{
 "cells": [
  {
   "cell_type": "code",
   "execution_count": 1,
   "metadata": {},
   "outputs": [],
   "source": [
    "from datetime import datetime\n",
    "from pprint import pprint\n",
    "from time import sleep\n",
    "import csv\n",
    "import locale\n",
    "import numpy as np\n",
    "import pandas as pd\n",
    "import requests"
   ]
  },
  {
   "cell_type": "code",
   "execution_count": 2,
   "metadata": {},
   "outputs": [],
   "source": [
    "#Creando Dataframe para cargarlo \n",
    "\n",
    "archivo = \"datos_airtable.csv\"\n",
    "\n",
    "df_descargado = pd.read_csv(archivo)"
   ]
  },
  {
   "cell_type": "code",
   "execution_count": 3,
   "metadata": {},
   "outputs": [
    {
     "data": {
      "text/html": [
       "<div>\n",
       "<style scoped>\n",
       "    .dataframe tbody tr th:only-of-type {\n",
       "        vertical-align: middle;\n",
       "    }\n",
       "\n",
       "    .dataframe tbody tr th {\n",
       "        vertical-align: top;\n",
       "    }\n",
       "\n",
       "    .dataframe thead th {\n",
       "        text-align: right;\n",
       "    }\n",
       "</style>\n",
       "<table border=\"1\" class=\"dataframe\">\n",
       "  <thead>\n",
       "    <tr style=\"text-align: right;\">\n",
       "      <th></th>\n",
       "      <th>id</th>\n",
       "      <th>createdTime</th>\n",
       "      <th>fields.Temp Max</th>\n",
       "      <th>fields.Viento</th>\n",
       "      <th>fields.Lluvia</th>\n",
       "      <th>fields.Tiempo</th>\n",
       "      <th>fields.Temp Min</th>\n",
       "      <th>fields.Ubicacion</th>\n",
       "      <th>fields.Fecha</th>\n",
       "    </tr>\n",
       "  </thead>\n",
       "  <tbody>\n",
       "    <tr>\n",
       "      <th>0</th>\n",
       "      <td>rec01K8KaBvXI5EDf</td>\n",
       "      <td>2024-01-10T18:09:14.000Z</td>\n",
       "      <td>24</td>\n",
       "      <td>18</td>\n",
       "      <td>0.0</td>\n",
       "      <td>Parcialmente nublado</td>\n",
       "      <td>12</td>\n",
       "      <td>Madrid</td>\n",
       "      <td>18 de abril 2022</td>\n",
       "    </tr>\n",
       "    <tr>\n",
       "      <th>1</th>\n",
       "      <td>rec01RliefQAF5CmE</td>\n",
       "      <td>2024-01-10T18:05:28.000Z</td>\n",
       "      <td>25</td>\n",
       "      <td>14</td>\n",
       "      <td>0.0</td>\n",
       "      <td>Nublado</td>\n",
       "      <td>17</td>\n",
       "      <td>Málaga</td>\n",
       "      <td>11 de mayo 2023</td>\n",
       "    </tr>\n",
       "  </tbody>\n",
       "</table>\n",
       "</div>"
      ],
      "text/plain": [
       "                  id               createdTime  fields.Temp Max  \\\n",
       "0  rec01K8KaBvXI5EDf  2024-01-10T18:09:14.000Z               24   \n",
       "1  rec01RliefQAF5CmE  2024-01-10T18:05:28.000Z               25   \n",
       "\n",
       "   fields.Viento  fields.Lluvia         fields.Tiempo  fields.Temp Min  \\\n",
       "0             18            0.0  Parcialmente nublado               12   \n",
       "1             14            0.0               Nublado               17   \n",
       "\n",
       "  fields.Ubicacion      fields.Fecha  \n",
       "0           Madrid  18 de abril 2022  \n",
       "1           Málaga   11 de mayo 2023  "
      ]
     },
     "execution_count": 3,
     "metadata": {},
     "output_type": "execute_result"
    }
   ],
   "source": [
    "df_descargado.head(2)"
   ]
  },
  {
   "cell_type": "code",
   "execution_count": 2,
   "metadata": {},
   "outputs": [],
   "source": [
    "def cargar_datos(df):\n",
    "    \n",
    "    #Detalles de autenticación de Airtable\n",
    "    api_key = 'patQcUpVqSdKlfmfr.56b544d0dcb62db4f4d5020e47e45b95605dc080ab4223d8d8aac9cf778ca346'\n",
    "    base_id = 'appw8XFmZCmNnf4eL'\n",
    "    table_name = 'tblOgjJormJcrh8sT'\n",
    "\n",
    "    #URL\n",
    "    url = f'https://api.airtable.com/v0/{base_id}/{table_name}'\n",
    "\n",
    "    #Convierte el dataFrame a un formato que se pueda enviar\n",
    "    datos_json = [{\"fields\" : df.iloc[i, :].to_dict()} for i in range(df.shape[0])]\n",
    "\n",
    "    #Encabezado\n",
    "    headers = {\n",
    "        'Authorization': f'Bearer {api_key}',\n",
    "        'Content-Type': 'application/json'\n",
    "    }\n",
    "\n",
    "\n",
    "    for i in range(0, df.shape[0], 10):\n",
    "\n",
    "        data = {\"records\" : datos_json[i : i + 10]}\n",
    "\n",
    "        response = requests.post(url, json = data, headers = headers)\n",
    "\n",
    "        sleep(0.6)\n",
    "\n",
    "        if response.status_code == 200:\n",
    "            print(\"Datos cargados en Airtable.\")\n",
    "        else:\n",
    "            print(f\"Error al cargar datos: {response.text}\")"
   ]
  },
  {
   "cell_type": "code",
   "execution_count": 9,
   "metadata": {},
   "outputs": [],
   "source": [
    "def extract_datos():\n",
    "\n",
    "    #Detalles de autenticación de Airtable\n",
    "    api_key = 'patQcUpVqSdKlfmfr.56b544d0dcb62db4f4d5020e47e45b95605dc080ab4223d8d8aac9cf778ca346'\n",
    "    base_id = 'appw8XFmZCmNnf4eL'\n",
    "    table_name = 'tblOgjJormJcrh8sT'\n",
    "\n",
    "    #URL\n",
    "    url = f'https://api.airtable.com/v0/{base_id}/{table_name}'\n",
    "\n",
    "    #Encabezado\n",
    "    headers = {\n",
    "        'Authorization': f'Bearer {api_key}',\n",
    "        'Content-Type': 'application/json'\n",
    "    }\n",
    "    #Parametro de salida o exit\n",
    "    params = {\"offset\" : None}\n",
    "\n",
    "    df_descargado = pd.DataFrame()\n",
    "\n",
    "    while params.get(\"offset\") != None or df_descargado.shape[0] == 0:\n",
    "\n",
    "        response = requests.get(url, headers = headers, params = params)\n",
    "\n",
    "        if response.status_code == 200:\n",
    "            print(\"Descarga completada\")\n",
    "\n",
    "        params[\"offset\"] = response.json().get(\"offset\")\n",
    "\n",
    "        print(params.get(\"offset\"))\n",
    "\n",
    "        df_descargado = pd.concat([df_descargado, pd.json_normalize(response.json()[\"records\"])], ignore_index = True)\n",
    "\n",
    "        sleep(0.6)\n",
    "        \n",
    "    return df_descargado"
   ]
  },
  {
   "cell_type": "code",
   "execution_count": null,
   "metadata": {},
   "outputs": [],
   "source": [
    "#Esto devuelve un dataframe\n",
    "df_descargado = extract_datos()"
   ]
  },
  {
   "cell_type": "code",
   "execution_count": 12,
   "metadata": {},
   "outputs": [],
   "source": [
    "#Hemos adjuntado el archivo descargado de Airtable en formato csv para que se pueda visualizar.\n",
    "\n",
    "df_descargado.to_csv(\"datos_airtable.csv\", index = False)"
   ]
  }
 ],
 "metadata": {
  "kernelspec": {
   "display_name": "base",
   "language": "python",
   "name": "python3"
  },
  "language_info": {
   "codemirror_mode": {
    "name": "ipython",
    "version": 3
   },
   "file_extension": ".py",
   "mimetype": "text/x-python",
   "name": "python",
   "nbconvert_exporter": "python",
   "pygments_lexer": "ipython3",
   "version": "3.11.5"
  }
 },
 "nbformat": 4,
 "nbformat_minor": 2
}
